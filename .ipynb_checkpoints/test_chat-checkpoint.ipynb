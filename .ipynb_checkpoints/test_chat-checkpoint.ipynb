{
 "cells": [
  {
   "cell_type": "code",
   "execution_count": 1,
   "id": "6dc46ea9-e271-48e2-939a-c4749f9ad3dc",
   "metadata": {},
   "outputs": [
    {
     "name": "stderr",
     "output_type": "stream",
     "text": [
      "WARNING:absl:Compiled the loaded model, but the compiled metrics have yet to be built. `model.compile_metrics` will be empty until you train or evaluate the model.\n"
     ]
    }
   ],
   "source": [
    "import nltk\n",
    "import numpy as np\n",
    "import random\n",
    "import json\n",
    "import pickle\n",
    "import pandas as pd\n",
    "from tensorflow.keras.models import load_model\n",
    "intents=json.loads(open(\"test_intents.json\").read())\n",
    "words=pickle.load(open ('words.pkl','rb'))\n",
    "classes = pickle.load(open(\"classes.pkl\",\"rb\")) \n",
    "model=load_model(\"chatbot_model.h5\")\n",
    "import regex as re\n",
    "from datetime import datetime"
   ]
  },
  {
   "cell_type": "code",
   "execution_count": null,
   "id": "c5952a9d-3f73-4cce-a969-e89dc54dcdeb",
   "metadata": {
    "scrolled": true
   },
   "outputs": [
    {
     "name": "stdin",
     "output_type": "stream",
     "text": [
      " start\n"
     ]
    },
    {
     "name": "stdout",
     "output_type": "stream",
     "text": [
      "\u001b[1m1/1\u001b[0m \u001b[32m━━━━━━━━━━━━━━━━━━━━\u001b[0m\u001b[37m\u001b[0m \u001b[1m0s\u001b[0m 111ms/step\n",
      "Welcome! Please choose an option: a) Manual Locate b) Show Tickets\n"
     ]
    },
    {
     "name": "stdin",
     "output_type": "stream",
     "text": [
      " view tickets\n"
     ]
    },
    {
     "name": "stdout",
     "output_type": "stream",
     "text": [
      "\u001b[1m1/1\u001b[0m \u001b[32m━━━━━━━━━━━━━━━━━━━━\u001b[0m\u001b[37m\u001b[0m \u001b[1m0s\u001b[0m 38ms/step\n",
      "Welcome! Please choose an option: a) Manual Locate b) Show Tickets\n"
     ]
    },
    {
     "name": "stdin",
     "output_type": "stream",
     "text": [
      " manual\n"
     ]
    },
    {
     "name": "stdout",
     "output_type": "stream",
     "text": [
      "\u001b[1m1/1\u001b[0m \u001b[32m━━━━━━━━━━━━━━━━━━━━\u001b[0m\u001b[37m\u001b[0m \u001b[1m0s\u001b[0m 25ms/step\n",
      "Please enter your location and the museum name.\n"
     ]
    },
    {
     "name": "stdin",
     "output_type": "stream",
     "text": [
      " qw, lol\n"
     ]
    },
    {
     "name": "stdout",
     "output_type": "stream",
     "text": [
      "\u001b[1m1/1\u001b[0m \u001b[32m━━━━━━━━━━━━━━━━━━━━\u001b[0m\u001b[37m\u001b[0m \u001b[1m0s\u001b[0m 26ms/step\n",
      "Great! What would you like to do next? a) Book a ticket b) About the museum c) Timings\n"
     ]
    },
    {
     "name": "stdin",
     "output_type": "stream",
     "text": [
      " book\n"
     ]
    },
    {
     "name": "stdout",
     "output_type": "stream",
     "text": [
      "\u001b[1m1/1\u001b[0m \u001b[32m━━━━━━━━━━━━━━━━━━━━\u001b[0m\u001b[37m\u001b[0m \u001b[1m0s\u001b[0m 26ms/step\n",
      "Please provide the date for the booking.\n"
     ]
    },
    {
     "name": "stdin",
     "output_type": "stream",
     "text": [
      " 12/09/2579\n"
     ]
    },
    {
     "name": "stdout",
     "output_type": "stream",
     "text": [
      "\u001b[1m1/1\u001b[0m \u001b[32m━━━━━━━━━━━━━━━━━━━━\u001b[0m\u001b[37m\u001b[0m \u001b[1m0s\u001b[0m 30ms/step\n",
      "Booking a ticket for 12/09/2579.\n"
     ]
    },
    {
     "name": "stdin",
     "output_type": "stream",
     "text": [
      " ok\n"
     ]
    },
    {
     "name": "stdout",
     "output_type": "stream",
     "text": [
      "\u001b[1m1/1\u001b[0m \u001b[32m━━━━━━━━━━━━━━━━━━━━\u001b[0m\u001b[37m\u001b[0m \u001b[1m0s\u001b[0m 37ms/step\n",
      "Please provide a valid number of tickets.\n"
     ]
    },
    {
     "name": "stdin",
     "output_type": "stream",
     "text": [
      " 1\n"
     ]
    },
    {
     "name": "stdout",
     "output_type": "stream",
     "text": [
      "\u001b[1m1/1\u001b[0m \u001b[32m━━━━━━━━━━━━━━━━━━━━\u001b[0m\u001b[37m\u001b[0m \u001b[1m0s\u001b[0m 26ms/step\n",
      "1 tickets have been booked. Please provide the details of the visitors.\n"
     ]
    },
    {
     "name": "stdin",
     "output_type": "stream",
     "text": [
      " Subhadeep, 18, m, y\n"
     ]
    },
    {
     "name": "stdout",
     "output_type": "stream",
     "text": [
      "\u001b[1m1/1\u001b[0m \u001b[32m━━━━━━━━━━━━━━━━━━━━\u001b[0m\u001b[37m\u001b[0m \u001b[1m0s\u001b[0m 25ms/step\n",
      "Booking Details:\n",
      "Ticket Number: 7994\n",
      "Location: qw\n",
      "Museum: lol\n",
      "Date: 12/09/2579\n",
      "Person 1: Name: Subhadeep, Age: 18, Gender: m, Nationality: y\n",
      "Thank you! Your booking is complete.\n"
     ]
    },
    {
     "name": "stdin",
     "output_type": "stream",
     "text": [
      " start\n"
     ]
    },
    {
     "name": "stdout",
     "output_type": "stream",
     "text": [
      "\u001b[1m1/1\u001b[0m \u001b[32m━━━━━━━━━━━━━━━━━━━━\u001b[0m\u001b[37m\u001b[0m \u001b[1m0s\u001b[0m 33ms/step\n",
      "Welcome! Please choose an option: a) Manual Locate b) Show Tickets\n"
     ]
    },
    {
     "name": "stdin",
     "output_type": "stream",
     "text": [
      " view tickets\n"
     ]
    },
    {
     "name": "stdout",
     "output_type": "stream",
     "text": [
      "\u001b[1m1/1\u001b[0m \u001b[32m━━━━━━━━━━━━━━━━━━━━\u001b[0m\u001b[37m\u001b[0m \u001b[1m0s\u001b[0m 28ms/step\n",
      "Welcome! Please choose an option: a) Manual Locate b) Show Tickets\n"
     ]
    },
    {
     "name": "stdin",
     "output_type": "stream",
     "text": [
      " manual\n"
     ]
    },
    {
     "name": "stdout",
     "output_type": "stream",
     "text": [
      "\u001b[1m1/1\u001b[0m \u001b[32m━━━━━━━━━━━━━━━━━━━━\u001b[0m\u001b[37m\u001b[0m \u001b[1m0s\u001b[0m 27ms/step\n",
      "Please enter your location and the museum name.\n"
     ]
    },
    {
     "name": "stdin",
     "output_type": "stream",
     "text": [
      " qw,dkd\n"
     ]
    },
    {
     "name": "stdout",
     "output_type": "stream",
     "text": [
      "\u001b[1m1/1\u001b[0m \u001b[32m━━━━━━━━━━━━━━━━━━━━\u001b[0m\u001b[37m\u001b[0m \u001b[1m0s\u001b[0m 25ms/step\n",
      "Please enter the location and museum name separated by a comma and a space, like this: 'Location, Museum Name'.\n"
     ]
    },
    {
     "name": "stdin",
     "output_type": "stream",
     "text": [
      " as,das\n"
     ]
    },
    {
     "name": "stdout",
     "output_type": "stream",
     "text": [
      "\u001b[1m1/1\u001b[0m \u001b[32m━━━━━━━━━━━━━━━━━━━━\u001b[0m\u001b[37m\u001b[0m \u001b[1m0s\u001b[0m 26ms/step\n",
      "Please enter the location and museum name separated by a comma and a space, like this: 'Location, Museum Name'.\n"
     ]
    },
    {
     "name": "stdin",
     "output_type": "stream",
     "text": [
      " asd, asd\n"
     ]
    },
    {
     "name": "stdout",
     "output_type": "stream",
     "text": [
      "\u001b[1m1/1\u001b[0m \u001b[32m━━━━━━━━━━━━━━━━━━━━\u001b[0m\u001b[37m\u001b[0m \u001b[1m0s\u001b[0m 46ms/step\n",
      "Great! What would you like to do next? a) Book a ticket b) About the museum c) Timings\n"
     ]
    },
    {
     "name": "stdin",
     "output_type": "stream",
     "text": [
      " view tickets\n"
     ]
    },
    {
     "name": "stdout",
     "output_type": "stream",
     "text": [
      "\u001b[1m1/1\u001b[0m \u001b[32m━━━━━━━━━━━━━━━━━━━━\u001b[0m\u001b[37m\u001b[0m \u001b[1m0s\u001b[0m 20ms/step\n",
      "Booked Tickets:\n",
      "Ticket Number: 7994\n",
      "Location: qw\n",
      "Museum: lol\n",
      "Date: 12/09/2579\n",
      "Person 1: Name: Subhadeep, Age: 18, Gender: m, Nationality: y\n"
     ]
    }
   ],
   "source": [
    "# Assuming lemmatizer, words, model, and intents are pre-defined\n",
    "lemmatizer = nltk.WordNetLemmatizer()\n",
    "\n",
    "# This will store the current state of the conversation\n",
    "conversation_state = {\"stage\": \"start\"}\n",
    "\n",
    "def clean_up_sentence(sentence):\n",
    "    sentence_words = nltk.word_tokenize(sentence)\n",
    "    sentence_words = [lemmatizer.lemmatize(word.lower()) for word in sentence_words]\n",
    "    return sentence_words\n",
    "\n",
    "def bag_of_words(sentence):\n",
    "    sentence_words = clean_up_sentence(sentence)\n",
    "    bag = [0] * len(words)\n",
    "    for w in sentence_words:\n",
    "        for i, word in enumerate(words):\n",
    "            if word == w:\n",
    "                bag[i] = 1\n",
    "    return np.array(bag)\n",
    "\n",
    "def predict_class(sentence):\n",
    "    bag_words = bag_of_words(sentence)\n",
    "    res = model.predict(np.array([bag_words]))[0]\n",
    "    ERROR_THRESHOLD = 0.25\n",
    "    results = [[i, r] for i, r in enumerate(res) if r > ERROR_THRESHOLD]\n",
    "    results.sort(key=lambda x: x[1], reverse=True)\n",
    "    return_list = []\n",
    "    for r in results:\n",
    "        return_list.append({'intent': classes[r[0]], 'probability': str(r[1])})\n",
    "    return return_list\n",
    "    \n",
    "def get_response(tag, intents_json):\n",
    "    list_of_intents = intents_json['intents']\n",
    "    for intent in list_of_intents:\n",
    "        if intent['tag'] == tag:\n",
    "            return random.choice(intent['responses'])\n",
    "\n",
    "def extract_number(user_input):\n",
    "    # Extract the number of tickets using regex\n",
    "    match = re.search(r'\\b\\d+\\b', user_input)\n",
    "    if match:\n",
    "        return int(match.group())\n",
    "    return None\n",
    "\n",
    "def extract_date(user_input):\n",
    "    # Extract date in dd/mm/yyyy format using regex\n",
    "    match = re.search(r'\\b\\d{2}/\\d{2}/\\d{4}\\b', user_input)\n",
    "    if match:\n",
    "        date_str = match.group()\n",
    "        try:\n",
    "            # Validate date format\n",
    "            datetime.strptime(date_str, '%d/%m/%Y')\n",
    "            return date_str\n",
    "        except ValueError:\n",
    "            return None\n",
    "    return None\n",
    "    \n",
    "# def handle_flow_based_responses(message, intents_json):\n",
    "#     global conversation_state\n",
    "\n",
    "#     # Predict the intent based on the user's message\n",
    "#     intents_list = predict_class(message)\n",
    "#     if not intents_list:\n",
    "#         return \"Sorry, I didn't understand that.\"\n",
    "\n",
    "#     # Determine the recognized intent's tag\n",
    "#     intent_tag = intents_list[0]['intent']\n",
    "\n",
    "#     # Check current stage and handle response based on intent tag\n",
    "#     if conversation_state[\"stage\"] == \"start\":\n",
    "#         if intent_tag == \"start\":\n",
    "#             conversation_state[\"stage\"] = \"manual_locate\"\n",
    "#             return get_response(\"start\", intents_json)\n",
    "\n",
    "#     elif conversation_state[\"stage\"] == \"manual_locate\":\n",
    "#         if intent_tag == \"manual_locate\":\n",
    "#             conversation_state[\"stage\"] = \"location_and_museum\"\n",
    "#             return get_response(\"manual_locate\", intents_json)\n",
    "#         else:\n",
    "#             return get_response(\"start\", intents_json)\n",
    "\n",
    "#     elif conversation_state[\"stage\"] == \"location_and_museum\":\n",
    "#         parts = message.split(\", \")\n",
    "#         if len(parts) == 2:\n",
    "#             location, museum_name = parts\n",
    "#             conversation_state[\"location_name\"] = location\n",
    "#             conversation_state[\"museum_name\"] = museum_name\n",
    "#             conversation_state[\"stage\"] = \"options\"\n",
    "#             return get_response(\"location_and_museum\", intents_json)\n",
    "#         else:\n",
    "#             return get_response(\"invalid_location_format\", intents_json)\n",
    "\n",
    "#     elif conversation_state[\"stage\"] == \"options\":\n",
    "#         if intent_tag == \"book_ticket\":\n",
    "#             conversation_state[\"stage\"] = \"ask_date\"\n",
    "#             return get_response(\"book_ticket\", intents_json)\n",
    "#         elif intent_tag == \"about_museum\":\n",
    "#             return get_response(\"about_museum\", intents_json)\n",
    "#         elif intent_tag == \"museum_timings\":\n",
    "#             return get_response(\"museum_timings\", intents_json)\n",
    "#         else:\n",
    "#             return get_response(\"invalid_option\",intents_json)\n",
    "\n",
    "#     elif conversation_state[\"stage\"] == \"ask_date\":\n",
    "#         date = extract_date(message)\n",
    "#         if date:\n",
    "#             conversation_state[\"date\"] = date\n",
    "#             conversation_state[\"stage\"] = \"ask_tickets\"\n",
    "#             return get_response(\"provide_date\", intents_json).format(date=date)\n",
    "#         else:\n",
    "#             return get_response(\"invalid_date_format\", intents_json)\n",
    "\n",
    "#     elif conversation_state[\"stage\"] == \"ask_tickets\":\n",
    "#         number_of_tickets = extract_number(message)\n",
    "#         if number_of_tickets is not None and number_of_tickets > 0:\n",
    "#             conversation_state[\"tickets\"] = number_of_tickets\n",
    "#             conversation_state[\"stage\"] = \"ask_details\"\n",
    "#             return get_response(\"provide_tickets\", intents_json).format(tickets=number_of_tickets)\n",
    "#         else:\n",
    "#             return get_response(\"invalid_tickets_number\", intents_json)\n",
    "\n",
    "#     elif conversation_state[\"stage\"] == \"ask_details\":\n",
    "#         if \"people_details\" not in conversation_state:\n",
    "#             conversation_state[\"people_details\"] = []\n",
    "#         person_details = message.split(\", \")\n",
    "#         if len(person_details) == 4:\n",
    "#             conversation_state[\"people_details\"].append({\n",
    "#                 \"name\": person_details[0],\n",
    "#                 \"age\": person_details[1],\n",
    "#                 \"gender\": person_details[2],\n",
    "#                 \"nationality\": person_details[3]\n",
    "#             })\n",
    "#             if len(conversation_state[\"people_details\"]) < conversation_state[\"tickets\"]:\n",
    "#                 return get_response(\"next_person_details\", intents_json).format(count=len(conversation_state[\"people_details\"]) + 1, total=conversation_state[\"tickets\"])\n",
    "#             else:\n",
    "#                 # receipt = \"\\n\".join([f\"Person {i + 1}: Name: {person['name']}, Age: {person['age']}, Gender: {person['gender'] }, Nationality: {person['nationality']}  \" for i, person in enumerate(conversation_state[\"people_details\"])])\n",
    "#                 receipt = (\n",
    "#                 f\"Booking Details:\\n\"\n",
    "#                 f\"Location: {conversation_state['location_name']}\\n\"\n",
    "#                 f\"Museum: {conversation_state['museum_name']}\\n\"\n",
    "#                 + \"\\n\".join([\n",
    "#                 f\"Person {i + 1}: Name: {person['name']}, Age: {person['age']}, Gender: {person['gender']}, Nationality: {person['nationality']}\"\n",
    "#                 for i, person in enumerate(conversation_state[\"people_details\"])\n",
    "#                 ])\n",
    "# )\n",
    "#                 conversation_state[\"stage\"] = \"start\"\n",
    "#                 conversation_state[\"people_details\"] = []\n",
    "#                 return receipt + get_response(\"booking_complete\", intents_json)\n",
    "#         else:\n",
    "#             return get_response(\"invalid_details_format\", intents_json)\n",
    "\n",
    "#     # elif conversation_state[\"stage\"] == \"ask_nationality\":\n",
    "#     #     if intent_tag == \"confirm_nationality\":\n",
    "#     #         if message.lower() in [\"yes\", \"no\"]:\n",
    "#     #             conversation_state[\"nationality\"] = message\n",
    "#     #             confirmation_response = get_response(\"confirm_nationality\", intents_json)[message.capitalize()]\n",
    "#     #             conversation_state[\"stage\"] = \"start\"\n",
    "#     #             return confirmation_response\n",
    "#     #         else:\n",
    "#     #             return get_response(\"invalid_nationality_response\", intents_json)\n",
    "\n",
    "#     conversation_state[\"stage\"] = \"start\"\n",
    "#     return get_response(\"restart\", intents_json)\n",
    "\n",
    "import random\n",
    "\n",
    "def generate_ticket_number():\n",
    "    return random.randint(1000, 9999)  # Generates a random 4-digit ticket number\n",
    "\n",
    "def handle_flow_based_responses(message, intents_json):\n",
    "    global conversation_state\n",
    "\n",
    "    # Predict the intent based on the user's message\n",
    "    intents_list = predict_class(message)\n",
    "    if not intents_list:\n",
    "        return \"Sorry, I didn't understand that.\"\n",
    "\n",
    "    # Determine the recognized intent's tag\n",
    "    intent_tag = intents_list[0]['intent']\n",
    "\n",
    "    # Initialize tickets array if not already present\n",
    "    if \"tickets\" not in conversation_state:\n",
    "        conversation_state[\"tickets\"] = []\n",
    "\n",
    "    # Check current stage and handle response based on intent tag\n",
    "    if conversation_state[\"stage\"] == \"start\":\n",
    "        if intent_tag == \"start\":\n",
    "            conversation_state[\"stage\"] = \"manual_locate\"\n",
    "            return get_response(\"start\", intents_json)\n",
    "        elif intent_tag == \"show_tickets\":\n",
    "            if not conversation_state[\"tickets\"]:\n",
    "                return \"No tickets have been booked yet.\"\n",
    "            else:\n",
    "                tickets_info = \"\\n\\n\".join([\n",
    "                    f\"Ticket Number: {ticket['ticket_number']}\\n\"\n",
    "                    f\"Location: {ticket['location']}\\n\"\n",
    "                    f\"Museum: {ticket['museum']}\\n\"\n",
    "                    f\"Date: {ticket['date']}\\n\"\n",
    "                    + \"\\n\".join([\n",
    "                        f\"Person {i + 1}: Name: {person['name']}, Age: {person['age']}, Gender: {person['gender']}, Nationality: {person['nationality']}\"\n",
    "                        for i, person in enumerate(ticket[\"visitors\"])\n",
    "                    ])\n",
    "                    for ticket in conversation_state[\"tickets\"]\n",
    "                ])\n",
    "                return \"Booked Tickets:\\n\" + tickets_info\n",
    "\n",
    "    elif conversation_state[\"stage\"] == \"manual_locate\":\n",
    "        if intent_tag == \"manual_locate\":\n",
    "            conversation_state[\"stage\"] = \"location_and_museum\"\n",
    "            return get_response(\"manual_locate\", intents_json)\n",
    "            \n",
    "         elif intent_tag == \"show_tickets\":\n",
    "            if not conversation_state[\"tickets\"]:\n",
    "                return \"No tickets have been booked yet.\"\n",
    "            else:\n",
    "                tickets_info = \"\\n\\n\".join([\n",
    "                    f\"Ticket Number: {ticket['ticket_number']}\\n\"\n",
    "                    f\"Location: {ticket['location']}\\n\"\n",
    "                    f\"Museum: {ticket['museum']}\\n\"\n",
    "                    f\"Date: {ticket['date']}\\n\"\n",
    "                    + \"\\n\".join([\n",
    "                        f\"Person {i + 1}: Name: {person['name']}, Age: {person['age']}, Gender: {person['gender']}, Nationality: {person['nationality']}\"\n",
    "                        for i, person in enumerate(ticket[\"visitors\"])\n",
    "                    ])\n",
    "                    for ticket in conversation_state[\"tickets\"]\n",
    "                ])\n",
    "                return \"Booked Tickets:\\n\" + tickets_info\n",
    "        else:\n",
    "            return get_response(\"start\", intents_json)\n",
    "\n",
    "    elif conversation_state[\"stage\"] == \"location_and_museum\":\n",
    "        parts = message.split(\", \")\n",
    "        if len(parts) == 2:\n",
    "            location, museum_name = parts\n",
    "            conversation_state[\"location_name\"] = location\n",
    "            conversation_state[\"museum_name\"] = museum_name\n",
    "            conversation_state[\"stage\"] = \"options\"\n",
    "            return get_response(\"location_and_museum\", intents_json)\n",
    "        else:\n",
    "            return get_response(\"invalid_location_format\", intents_json)\n",
    "\n",
    " \n",
    "\n",
    "    elif conversation_state[\"stage\"] == \"options\":\n",
    "        if intent_tag == \"book_ticket\":\n",
    "            conversation_state[\"stage\"] = \"ask_date\"\n",
    "            return get_response(\"book_ticket\", intents_json)\n",
    "        elif intent_tag == \"about_museum\":\n",
    "            return get_response(\"about_museum\", intents_json)\n",
    "        elif intent_tag == \"museum_timings\":\n",
    "            return get_response(\"museum_timings\", intents_json)\n",
    "        # elif intent_tag == \"show_tickets\":\n",
    "        #     if not conversation_state[\"tickets\"]:\n",
    "        #         return \"No tickets have been booked yet.\"\n",
    "        #     else:\n",
    "        #         tickets_info = \"\\n\\n\".join([\n",
    "        #             f\"Ticket Number: {ticket['ticket_number']}\\n\"\n",
    "        #             f\"Location: {ticket['location']}\\n\"\n",
    "        #             f\"Museum: {ticket['museum']}\\n\"\n",
    "        #             f\"Date: {ticket['date']}\\n\"\n",
    "        #             + \"\\n\".join([\n",
    "        #                 f\"Person {i + 1}: Name: {person['name']}, Age: {person['age']}, Gender: {person['gender']}, Nationality: {person['nationality']}\"\n",
    "        #                 for i, person in enumerate(ticket[\"visitors\"])\n",
    "        #             ])\n",
    "        #             for ticket in conversation_state[\"tickets\"]\n",
    "        #         ])\n",
    "        #         return \"Booked Tickets:\\n\" + tickets_info\n",
    "        else:\n",
    "            return get_response(\"invalid_option\", intents_json)\n",
    "\n",
    "    elif conversation_state[\"stage\"] == \"ask_date\":\n",
    "        date = extract_date(message)\n",
    "        if date:\n",
    "            conversation_state[\"date\"] = date\n",
    "            conversation_state[\"stage\"] = \"ask_tickets\"\n",
    "            return get_response(\"provide_date\", intents_json).format(date=date)\n",
    "        else:\n",
    "            return get_response(\"invalid_date_format\", intents_json)\n",
    "\n",
    "    elif conversation_state[\"stage\"] == \"ask_tickets\":\n",
    "        number_of_tickets = extract_number(message)\n",
    "        if number_of_tickets is not None and number_of_tickets > 0:\n",
    "            conversation_state[\"tickets_count\"] = number_of_tickets\n",
    "            conversation_state[\"stage\"] = \"ask_details\"\n",
    "            return get_response(\"provide_tickets\", intents_json).format(tickets=number_of_tickets)\n",
    "        else:\n",
    "            return get_response(\"invalid_tickets_number\", intents_json)\n",
    "\n",
    "    elif conversation_state[\"stage\"] == \"ask_details\":\n",
    "        if \"people_details\" not in conversation_state:\n",
    "            conversation_state[\"people_details\"] = []\n",
    "        person_details = message.split(\", \")\n",
    "        if len(person_details) == 4:\n",
    "            conversation_state[\"people_details\"].append({\n",
    "                \"name\": person_details[0],\n",
    "                \"age\": person_details[1],\n",
    "                \"gender\": person_details[2],\n",
    "                \"nationality\": person_details[3]\n",
    "            })\n",
    "            if len(conversation_state[\"people_details\"]) < conversation_state[\"tickets_count\"]:\n",
    "                return get_response(\"next_person_details\", intents_json).format(count=len(conversation_state[\"people_details\"]) + 1, total=conversation_state[\"tickets_count\"])\n",
    "            else:\n",
    "                # Store ticket information\n",
    "                ticket_number = generate_ticket_number()\n",
    "                ticket_info = {\n",
    "                    \"ticket_number\": ticket_number,\n",
    "                    \"location\": conversation_state[\"location_name\"],\n",
    "                    \"museum\": conversation_state[\"museum_name\"],\n",
    "                    \"date\": conversation_state[\"date\"],\n",
    "                    \"visitors\": conversation_state[\"people_details\"]\n",
    "                }\n",
    "                conversation_state[\"tickets\"].append(ticket_info)\n",
    "\n",
    "                # Reset people details for the next set of bookings\n",
    "                conversation_state[\"people_details\"] = []\n",
    "\n",
    "                # Receipt generation\n",
    "                receipt = (\n",
    "                    f\"Booking Details:\\n\"\n",
    "                    f\"Ticket Number: {ticket_number}\\n\"\n",
    "                    f\"Location: {ticket_info['location']}\\n\"\n",
    "                    f\"Museum: {ticket_info['museum']}\\n\"\n",
    "                    f\"Date: {ticket_info['date']}\\n\"\n",
    "                    + \"\\n\".join([\n",
    "                        f\"Person {i + 1}: Name: {person['name']}, Age: {person['age']}, Gender: {person['gender']}, Nationality: {person['nationality']}\"\n",
    "                        for i, person in enumerate(ticket_info[\"visitors\"])\n",
    "                    ])\n",
    "                )\n",
    "                conversation_state[\"stage\"] = \"start\"\n",
    "                return receipt + get_response(\"booking_complete\", intents_json)\n",
    "        else:\n",
    "            return get_response(\"invalid_details_format\", intents_json)\n",
    "\n",
    "    conversation_state[\"stage\"] = \"start\"\n",
    "    return get_response(\"restart\", intents_json)\n",
    "\n",
    "while True:\n",
    "    message = input(\"\")\n",
    "    response = handle_flow_based_responses(message, intents)\n",
    "    print(response)"
   ]
  },
  {
   "cell_type": "code",
   "execution_count": null,
   "id": "e1e1d96a-6781-4905-aaa6-aee20301e293",
   "metadata": {},
   "outputs": [],
   "source": []
  },
  {
   "cell_type": "code",
   "execution_count": null,
   "id": "1bf0ba79-bff9-4bfb-8a6c-64d6535fbf0f",
   "metadata": {},
   "outputs": [],
   "source": []
  },
  {
   "cell_type": "code",
   "execution_count": null,
   "id": "ed49896a-04b4-4fb5-8d15-2b4fbdd78968",
   "metadata": {},
   "outputs": [],
   "source": []
  }
 ],
 "metadata": {
  "kernelspec": {
   "display_name": "Python 3 (ipykernel)",
   "language": "python",
   "name": "python3"
  },
  "language_info": {
   "codemirror_mode": {
    "name": "ipython",
    "version": 3
   },
   "file_extension": ".py",
   "mimetype": "text/x-python",
   "name": "python",
   "nbconvert_exporter": "python",
   "pygments_lexer": "ipython3",
   "version": "3.11.7"
  }
 },
 "nbformat": 4,
 "nbformat_minor": 5
}
